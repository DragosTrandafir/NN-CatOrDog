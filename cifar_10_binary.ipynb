{
 "cells": [
  {
   "cell_type": "code",
   "execution_count": 13,
   "id": "4e8acf17-3004-4d5a-bb71-e9977e20611d",
   "metadata": {},
   "outputs": [],
   "source": [
    "import numpy as np # arrays & loading data\n",
    "import tensorflow as tf # arrays & loading data\n",
    "from tensorflow.keras.models import Sequential  # model type that we will use\n",
    "from tensorflow.keras.layers import Dense # we will use Dense layers\n",
    "\n",
    "# suppress warnings\n",
    "tf.get_logger().setLevel('ERROR')\n",
    "tf.autograph.set_verbosity(0)"
   ]
  },
  {
   "cell_type": "code",
   "execution_count": 55,
   "id": "bb62911f-55a6-403d-9ae1-c320367cdcdd",
   "metadata": {},
   "outputs": [
    {
     "name": "stdout",
     "output_type": "stream",
     "text": [
      "[[170 168 177 ...  78  80   1]\n",
      " [159 150 153 ...  17  19   1]\n",
      " [202 202 204 ... 243 243   0]\n",
      " ...\n",
      " [116 120 126 ...  84  81   1]\n",
      " [ 71  60  74 ...  69  68   1]\n",
      " [250 254 211 ... 255 254   1]]\n",
      "(1979, 3073)\n"
     ]
    }
   ],
   "source": [
    "# unpickle the data from the batch file in the CIFAR-10 dataset\n",
    "def unpickle(file):\n",
    "    import pickle\n",
    "    with open(file, 'rb') as fo:\n",
    "        dict = pickle.load(fo, encoding='bytes')\n",
    "    return dict\n",
    "# save the data as a dictionary\n",
    "dict = unpickle(\"cifar-10-batches-py\\\\data_batch_1\")\n",
    "\n",
    "# split the data using the keys\n",
    "labels = np.array(pickle[b'labels'])\n",
    "data = np.array(pickle[b'data'])\n",
    "\n",
    "# form a column vector where only 0 and 1 are kept ( we need binary classification)\n",
    "labels_zero_or_one = np.where((labels<2),labels,-1)\n",
    "labels_zero_or_one = labels_zero_or_one.reshape(-1,1) \n",
    "\n",
    "# concatanate the labels column form above to the data\n",
    "data_concatanated = np.concatenate((data,labels_zero_or_one),axis=1)\n",
    "\n",
    "# keep only the rows that have 0 or 1 as labels (those with -1 as labels are not important now)\n",
    "data_final= data_concatanated[data_concatanated[:,-1]!=-1]\n",
    "print(data_final)\n",
    "print(data_final.shape)"
   ]
  },
  {
   "cell_type": "code",
   "execution_count": 56,
   "id": "1949031b-d033-4e0f-a556-f6489b61a094",
   "metadata": {},
   "outputs": [],
   "source": [
    "X = data_final[:,:-1] # forming the input and output \n",
    "y = data_final[:,-1]\n",
    "\n",
    "y = np.expand_dims(y, axis=1) # make y 2D - the commands later will require it\n"
   ]
  },
  {
   "cell_type": "code",
   "execution_count": null,
   "id": "8ef3f9de-7b2a-4456-879b-a31e44b20043",
   "metadata": {},
   "outputs": [],
   "source": []
  }
 ],
 "metadata": {
  "kernelspec": {
   "display_name": "Python 3 (ipykernel)",
   "language": "python",
   "name": "python3"
  },
  "language_info": {
   "codemirror_mode": {
    "name": "ipython",
    "version": 3
   },
   "file_extension": ".py",
   "mimetype": "text/x-python",
   "name": "python",
   "nbconvert_exporter": "python",
   "pygments_lexer": "ipython3",
   "version": "3.12.0"
  }
 },
 "nbformat": 4,
 "nbformat_minor": 5
}
